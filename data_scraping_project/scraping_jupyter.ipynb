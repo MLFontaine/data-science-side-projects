{
 "cells": [
  {
   "cell_type": "markdown",
   "metadata": {},
   "source": [
    "# Scraping web data and text mining for analysis, and for use with a Tensorflow RNN example"
   ]
  },
  {
   "cell_type": "code",
   "execution_count": 14,
   "metadata": {},
   "outputs": [
    {
     "data": {
      "text/plain": [
       "'/Users/MF/Desktop/data-science-side-projects/data_scraping_project'"
      ]
     },
     "execution_count": 14,
     "metadata": {},
     "output_type": "execute_result"
    }
   ],
   "source": [
    "import os\n",
    "os.getcwd()"
   ]
  },
  {
   "cell_type": "code",
   "execution_count": 5,
   "metadata": {
    "collapsed": true
   },
   "outputs": [],
   "source": [
    "#from HTMLParser import HTMLParser\n",
    "#parser = HTMLParser()\n",
    "#parser.feed('https://docs.python.org/2/library/htmlparser.html')"
   ]
  },
  {
   "cell_type": "code",
   "execution_count": 10,
   "metadata": {
    "collapsed": true
   },
   "outputs": [],
   "source": [
    "#%lsmagic\n",
    "#!ps -a\n",
    "##%time\n",
    "##2+2"
   ]
  },
  {
   "cell_type": "markdown",
   "metadata": {},
   "source": [
    "Example using scrapy module for data scraping, see: https://doc.scrapy.org/en/1.4/intro/overview.html"
   ]
  },
  {
   "cell_type": "code",
   "execution_count": 17,
   "metadata": {
    "collapsed": true
   },
   "outputs": [],
   "source": [
    "with open('quotes_spider.py', 'w') as swf:\n",
    "    swf.write('''\\\n",
    "import scrapy\n",
    "\n",
    "\n",
    "class QuotesSpider(scrapy.Spider):\n",
    "    name = \"quotes\"\n",
    "    start_urls = [\n",
    "        'http://quotes.toscrape.com/tag/humor/',\n",
    "    ]\n",
    "\n",
    "    def parse(self, response):\n",
    "        for quote in response.css('div.quote'):\n",
    "            yield {\n",
    "                'text': quote.css('span.text::text').extract_first(),\n",
    "                'author': quote.xpath('span/small/text()').extract_first(),\n",
    "            }\n",
    "\n",
    "        next_page = response.css('li.next a::attr(\"href\")').extract_first()\n",
    "        if next_page is not None:\n",
    "            yield response.follow(next_page, self.parse)\n",
    "            ''')\n",
    "    swf.close()"
   ]
  },
  {
   "cell_type": "code",
   "execution_count": 20,
   "metadata": {
    "collapsed": true
   },
   "outputs": [],
   "source": [
    "! scrapy runspider quotes_spider.py -o quotes.json &>/dev/null"
   ]
  },
  {
   "cell_type": "code",
   "execution_count": 1,
   "metadata": {},
   "outputs": [
    {
     "name": "stdout",
     "output_type": "stream",
     "text": [
      "/\n",
      "#mw-head\n",
      "#p-search\n",
      "/wiki/Wikipedia\n",
      "/wiki/Free_content\n",
      "/wiki/Encyclopedia\n",
      "/wiki/Wikipedia:Introduction\n",
      "/wiki/Special:Statistics\n",
      "/wiki/English_language\n",
      "/wiki/Portal:Arts\n",
      "/wiki/Portal:Biography\n",
      "/wiki/Portal:Geography\n",
      "/wiki/Portal:History\n",
      "/wiki/Portal:Mathematics\n",
      "/wiki/Portal:Science\n",
      "/wiki/Portal:Society\n",
      "/wiki/Portal:Technology\n",
      "/wiki/Portal:Contents/Portals\n",
      "/wiki/Tidus\n",
      "/wiki/Role-playing_video_game\n",
      "/wiki/Protagonist\n",
      "/wiki/Final_Fantasy_X\n",
      "/wiki/Blitzball_(Final_Fantasy)\n",
      "/wiki/Final_Fantasy_X-2\n",
      "/wiki/Kingdom_Hearts\n",
      "/wiki/Square_Enix\n",
      "/wiki/Tetsuya_Nomura\n",
      "/wiki/Kazushige_Nojima\n",
      "/wiki/James_Arnold_Taylor\n",
      "/wiki/Masakazu_Morita\n",
      "/wiki/Motion_capture\n",
      "/wiki/Character_arc\n",
      "/wiki/Cosplay\n",
      "/wiki/Tidus\n",
      "/wiki/Ram_Narayan\n",
      "/wiki/Melbourne_Castle\n",
      "/wiki/Auriscalpium_vulgare\n",
      "/wiki/Wikipedia:Today%27s_featured_article/June_2017\n",
      "https://lists.wikimedia.org/mailman/listinfo/daily-article-l\n",
      "/wiki/Wikipedia:Featured_articles\n",
      "/wiki/File:Agagianian_1958_(crop).jpg\n",
      "/wiki/Gregorio_Pietro_Agagianian\n",
      "/wiki/Washington_State_Route_522\n",
      "/wiki/Liu_Guandao\n",
      "/wiki/Kublai_Khan\n",
      "/wiki/Casualty_(TV_series)\n",
      "/wiki/Too_Old_for_This_Shift\n",
      "/wiki/%C3%96get_%C3%96ktem_Tan%C3%B6r\n",
      "/wiki/Yellow-crested_woodpecker\n",
      "/wiki/Bluebeard%27s_Castle\n",
      "/wiki/Cornelia_Kallisch\n",
      "/wiki/Dimitri_Navachine\n",
      "/wiki/Nematus_oligospilus\n",
      "/wiki/Turkey_ham\n",
      "/wiki/Wikipedia:Recent_additions\n",
      "/wiki/Wikipedia:Your_first_article\n",
      "/wiki/Template_talk:Did_you_know\n",
      "/wiki/File:Mohammed_Bin_Salman_al-Saud.jpg\n",
      "/wiki/Ireland_cricket_team\n",
      "/wiki/Afghanistan_national_cricket_team\n",
      "/wiki/Test_cricket#Test_status\n",
      "/wiki/International_Cricket_Council\n",
      "/wiki/Mohammad_bin_Salman\n",
      "/wiki/Crown_Prince_of_Saudi_Arabia\n",
      "/wiki/Salman_of_Saudi_Arabia\n",
      "/wiki/Muhammad_bin_Nayef\n",
      "/wiki/Jos%C3%A9_Eduardo_Agualusa\n",
      "/wiki/International_Dublin_Literary_Award\n",
      "/wiki/A_General_Theory_of_Oblivion\n",
      "/wiki/Great_Mosque_of_al-Nuri_(Mosul)\n",
      "/wiki/Battle_of_Mosul_(2016%E2%80%93present)\n",
      "/wiki/2017_Finsbury_Park_attack\n",
      "/wiki/Finsbury_Park_Mosque\n",
      "/wiki/Portal:Current_events\n",
      "/wiki/Battle_of_Raqqa_(2017)\n",
      "/wiki/Deaths_in_2017\n",
      "/wiki/Con_Sciacca\n",
      "/wiki/Otto_Warmbier\n",
      "/wiki/Tim_Hague\n",
      "/wiki/Baldwin_Lonsdale\n",
      "/wiki/June_22\n",
      "/wiki/File:Diego_Maradona_cropped.jpg\n",
      "/wiki/813\n",
      "/wiki/Byzantine%E2%80%93Bulgarian_wars\n",
      "/wiki/Bulgarian_Empire\n",
      "/wiki/Byzantine_Empire\n",
      "/wiki/Battle_of_Versinikia\n",
      "/wiki/1813\n",
      "/wiki/War_of_1812\n",
      "/wiki/Battle_of_Beaver_Dams\n",
      "/wiki/Laura_Secord\n",
      "/wiki/Queenston,_Ontario\n",
      "/wiki/Upper_Canada\n",
      "/wiki/James_FitzGibbon\n",
      "/wiki/1911\n",
      "/wiki/George_V\n",
      "/wiki/Mary_of_Teck\n",
      "/wiki/Coronation_of_the_British_monarch\n",
      "/wiki/List_of_British_monarchs\n",
      "/wiki/List_of_British_consorts\n",
      "/wiki/Westminster_Abbey\n",
      "/wiki/1941\n",
      "/wiki/World_War_II\n",
      "/wiki/Axis_powers\n",
      "/wiki/Operation_Barbarossa\n",
      "/wiki/Lithuanian_Activist_Front\n",
      "/wiki/June_Uprising_in_Lithuania\n",
      "/wiki/Occupation_of_the_Baltic_states#Soviet_invasion_and_occupation.2C_1940.E2.80.931941\n",
      "/wiki/1986\n",
      "/wiki/Argentina_national_football_team\n",
      "/wiki/Diego_Maradona\n",
      "/wiki/England_national_football_team\n",
      "/wiki/Argentina_v_England_(1986_FIFA_World_Cup)\n",
      "/wiki/1986_FIFA_World_Cup\n",
      "/wiki/Paulinus_of_Nola\n",
      "/wiki/Pascual_D%C3%ADaz_y_Barreto\n",
      "/wiki/Elizabeth_Warren\n",
      "/wiki/June_21\n",
      "/wiki/June_22\n",
      "/wiki/June_23\n",
      "/wiki/Wikipedia:Selected_anniversaries/June\n",
      "https://lists.wikimedia.org/mailman/listinfo/daily-article-l\n",
      "/wiki/List_of_historical_anniversaries\n",
      "/wiki/File:Henri-Edmond_Cross_-_The_Evening_Air_-_Google_Art_Project.jpg\n",
      "/wiki/Henri-Edmond_Cross\n",
      "/wiki/Pointillism\n",
      "/wiki/Georges_Seurat\n",
      "/wiki/Paul_Signac\n",
      "/wiki/Neo-Impressionism\n",
      "/wiki/Henri-Edmond_Cross\n",
      "/wiki/Template:POTD/2017-06-21\n",
      "/wiki/Template:POTD/2017-06-20\n",
      "/wiki/Template:POTD/2017-06-19\n",
      "/wiki/Wikipedia:Picture_of_the_day/June_2017\n",
      "/wiki/Wikipedia:Featured_pictures\n",
      "/wiki/Wikipedia:Community_portal\n",
      "/wiki/Wikipedia:Help_desk\n",
      "/wiki/Wikipedia:Local_Embassy\n",
      "/wiki/Wikipedia:Reference_desk\n",
      "/wiki/Wikipedia:News\n",
      "/wiki/Wikipedia:Village_pump\n",
      "/wiki/Wikimedia_Foundation\n",
      "https://wikimediafoundation.org/wiki/Our_projects\n",
      "https://commons.wikimedia.org/wiki/\n",
      "//commons.wikimedia.org/\n",
      "https://www.mediawiki.org/wiki/\n",
      "//mediawiki.org/\n",
      "https://meta.wikimedia.org/wiki/\n",
      "//meta.wikimedia.org/\n",
      "https://en.wikibooks.org/wiki/\n",
      "//en.wikibooks.org/\n",
      "https://www.wikidata.org/wiki/\n",
      "//www.wikidata.org/\n",
      "https://en.wikinews.org/wiki/\n",
      "//en.wikinews.org/\n",
      "https://en.wikiquote.org/wiki/\n",
      "//en.wikiquote.org/\n",
      "https://en.wikisource.org/wiki/\n",
      "//en.wikisource.org/\n",
      "https://species.wikimedia.org/wiki/\n",
      "//species.wikimedia.org/\n",
      "https://en.wikiversity.org/wiki/\n",
      "//en.wikiversity.org/\n",
      "https://en.wikivoyage.org/wiki/\n",
      "//en.wikivoyage.org/\n",
      "https://en.wiktionary.org/wiki/\n",
      "//en.wiktionary.org/\n",
      "/wiki/English_language\n",
      "/wiki/Special:Statistics\n",
      "https://de.wikipedia.org/wiki/\n",
      "https://es.wikipedia.org/wiki/\n",
      "https://fr.wikipedia.org/wiki/\n",
      "https://it.wikipedia.org/wiki/\n",
      "https://nl.wikipedia.org/wiki/\n",
      "https://ja.wikipedia.org/wiki/\n",
      "https://pl.wikipedia.org/wiki/\n",
      "https://ru.wikipedia.org/wiki/\n",
      "https://sv.wikipedia.org/wiki/\n",
      "https://vi.wikipedia.org/wiki/\n",
      "https://ar.wikipedia.org/wiki/\n",
      "https://id.wikipedia.org/wiki/\n",
      "https://ms.wikipedia.org/wiki/\n",
      "https://ca.wikipedia.org/wiki/\n",
      "https://cs.wikipedia.org/wiki/\n",
      "https://eu.wikipedia.org/wiki/\n",
      "https://fa.wikipedia.org/wiki/\n",
      "https://ko.wikipedia.org/wiki/\n",
      "https://hu.wikipedia.org/wiki/\n",
      "https://no.wikipedia.org/wiki/\n",
      "https://pt.wikipedia.org/wiki/\n",
      "https://ro.wikipedia.org/wiki/\n",
      "https://sr.wikipedia.org/wiki/\n",
      "https://sh.wikipedia.org/wiki/\n",
      "https://fi.wikipedia.org/wiki/\n",
      "https://tr.wikipedia.org/wiki/\n",
      "https://uk.wikipedia.org/wiki/\n",
      "https://zh.wikipedia.org/wiki/\n",
      "https://bs.wikipedia.org/wiki/\n",
      "https://bg.wikipedia.org/wiki/\n",
      "https://da.wikipedia.org/wiki/\n",
      "https://et.wikipedia.org/wiki/\n",
      "https://el.wikipedia.org/wiki/\n",
      "https://simple.wikipedia.org/wiki/\n",
      "https://eo.wikipedia.org/wiki/\n",
      "https://gl.wikipedia.org/wiki/\n",
      "https://he.wikipedia.org/wiki/\n",
      "https://hr.wikipedia.org/wiki/\n",
      "https://lv.wikipedia.org/wiki/\n",
      "https://lt.wikipedia.org/wiki/\n",
      "https://nn.wikipedia.org/wiki/\n",
      "https://sk.wikipedia.org/wiki/\n",
      "https://sl.wikipedia.org/wiki/\n",
      "https://th.wikipedia.org/wiki/\n",
      "https://meta.wikimedia.org/wiki/List_of_Wikipedias\n",
      "https://en.wikipedia.org/w/index.php?title=Main_Page&oldid=784249800\n",
      "/wiki/Special:MyTalk\n",
      "/wiki/Special:MyContributions\n",
      "/w/index.php?title=Special:CreateAccount&returnto=Main+Page\n",
      "/w/index.php?title=Special:UserLogin&returnto=Main+Page\n",
      "/wiki/Main_Page\n",
      "/wiki/Talk:Main_Page\n",
      "#\n",
      "/wiki/Main_Page\n",
      "/w/index.php?title=Main_Page&action=edit\n",
      "/w/index.php?title=Main_Page&action=history\n",
      "#\n",
      "/wiki/Main_Page\n",
      "/wiki/Main_Page\n",
      "/wiki/Portal:Contents\n",
      "/wiki/Portal:Featured_content\n",
      "/wiki/Portal:Current_events\n",
      "/wiki/Special:Random\n",
      "https://donate.wikimedia.org/wiki/Special:FundraiserRedirector?utm_source=donate&utm_medium=sidebar&utm_campaign=C13_en.wikipedia.org&uselang=en\n",
      "//shop.wikimedia.org\n",
      "/wiki/Help:Contents\n",
      "/wiki/Wikipedia:About\n",
      "/wiki/Wikipedia:Community_portal\n",
      "/wiki/Special:RecentChanges\n",
      "//en.wikipedia.org/wiki/Wikipedia:Contact_us\n",
      "/wiki/Special:WhatLinksHere/Main_Page\n",
      "/wiki/Special:RecentChangesLinked/Main_Page\n",
      "/wiki/Wikipedia:File_Upload_Wizard\n",
      "/wiki/Special:SpecialPages\n",
      "/w/index.php?title=Main_Page&oldid=784249800\n",
      "/w/index.php?title=Main_Page&action=info\n",
      "https://www.wikidata.org/wiki/Q5296\n",
      "/w/index.php?title=Special:CiteThisPage&page=Main_Page&id=784249800\n",
      "/w/index.php?title=Special:Book&bookcmd=book_creator&referer=Main+Page\n",
      "/w/index.php?title=Special:ElectronPdf&page=Main+Page&action=show-selection-screen&coll-download-url=%2Fw%2Findex.php%3Ftitle%3DSpecial%3ABook%26bookcmd%3Drender_article%26arttitle%3DMain%2BPage%26returnto%3DMain%2BPage%26oldid%3D784249800%26writer%3Drdf2latex\n",
      "/w/index.php?title=Main_Page&printable=yes\n",
      "https://commons.wikimedia.org/wiki/Main_Page\n",
      "https://www.mediawiki.org/wiki/MediaWiki\n",
      "https://meta.wikimedia.org/wiki/Main_Page\n",
      "https://species.wikimedia.org/wiki/Main_Page\n",
      "https://en.wikibooks.org/wiki/Main_Page\n",
      "https://www.wikidata.org/wiki/Wikidata:Main_Page\n",
      "https://en.wikinews.org/wiki/Main_Page\n",
      "https://en.wikiquote.org/wiki/Main_Page\n",
      "https://en.wikisource.org/wiki/Main_Page\n",
      "https://en.wikiversity.org/wiki/Wikiversity:Main_Page\n",
      "https://en.wikivoyage.org/wiki/Main_Page\n",
      "https://en.wiktionary.org/wiki/Wiktionary:Main_Page\n",
      "https://ar.wikipedia.org/wiki/\n",
      "https://bg.wikipedia.org/wiki/\n",
      "https://bs.wikipedia.org/wiki/\n",
      "https://ca.wikipedia.org/wiki/\n",
      "https://cs.wikipedia.org/wiki/\n",
      "https://da.wikipedia.org/wiki/\n",
      "https://de.wikipedia.org/wiki/\n",
      "https://et.wikipedia.org/wiki/\n",
      "https://el.wikipedia.org/wiki/\n",
      "https://es.wikipedia.org/wiki/\n",
      "https://eo.wikipedia.org/wiki/\n",
      "https://eu.wikipedia.org/wiki/\n",
      "https://fa.wikipedia.org/wiki/\n",
      "https://fr.wikipedia.org/wiki/\n",
      "https://gl.wikipedia.org/wiki/\n",
      "https://ko.wikipedia.org/wiki/\n",
      "https://hr.wikipedia.org/wiki/\n",
      "https://id.wikipedia.org/wiki/\n",
      "https://it.wikipedia.org/wiki/\n",
      "https://he.wikipedia.org/wiki/\n",
      "https://ka.wikipedia.org/wiki/\n",
      "https://lv.wikipedia.org/wiki/\n",
      "https://lt.wikipedia.org/wiki/\n",
      "https://hu.wikipedia.org/wiki/\n",
      "https://ms.wikipedia.org/wiki/\n",
      "https://nl.wikipedia.org/wiki/\n",
      "https://ja.wikipedia.org/wiki/\n",
      "https://no.wikipedia.org/wiki/\n",
      "https://nn.wikipedia.org/wiki/\n",
      "https://pl.wikipedia.org/wiki/\n",
      "https://pt.wikipedia.org/wiki/\n",
      "https://ro.wikipedia.org/wiki/\n",
      "https://ru.wikipedia.org/wiki/\n",
      "https://simple.wikipedia.org/wiki/\n",
      "https://sk.wikipedia.org/wiki/\n",
      "https://sl.wikipedia.org/wiki/\n",
      "https://sr.wikipedia.org/wiki/\n",
      "https://sh.wikipedia.org/wiki/\n",
      "https://fi.wikipedia.org/wiki/\n",
      "https://sv.wikipedia.org/wiki/\n",
      "https://th.wikipedia.org/wiki/\n",
      "https://tr.wikipedia.org/wiki/\n",
      "https://uk.wikipedia.org/wiki/\n",
      "https://vi.wikipedia.org/wiki/\n",
      "https://zh.wikipedia.org/wiki/\n",
      "//en.wikipedia.org/wiki/Wikipedia:Text_of_Creative_Commons_Attribution-ShareAlike_3.0_Unported_License\n",
      "//creativecommons.org/licenses/by-sa/3.0/\n",
      "//wikimediafoundation.org/wiki/Terms_of_Use\n",
      "//wikimediafoundation.org/wiki/Privacy_policy\n",
      "//www.wikimediafoundation.org/\n",
      "https://wikimediafoundation.org/wiki/Privacy_policy\n",
      "/wiki/Wikipedia:About\n",
      "/wiki/Wikipedia:General_disclaimer\n",
      "//en.wikipedia.org/wiki/Wikipedia:Contact_us\n",
      "https://www.mediawiki.org/wiki/Special:MyLanguage/How_to_contribute\n",
      "https://wikimediafoundation.org/wiki/Cookie_statement\n",
      "//en.m.wikipedia.org/w/index.php?title=Main_Page&mobileaction=toggle_view_mobile\n",
      "https://wikimediafoundation.org/\n",
      "//www.mediawiki.org/\n"
     ]
    }
   ],
   "source": [
    "#pip install beautifulsoup4\n",
    "#pip install urllib\n",
    "#also consider lxml package instead of bs4?\n",
    "#also a package called bleach (from mozilla?)\n",
    "from bs4 import BeautifulSoup\n",
    "import urllib2\n",
    "\n",
    "webpage = urllib2.urlopen('http://en.wikipedia.org/wiki/Main_Page')\n",
    "soup = BeautifulSoup(webpage,'html.parser')\n",
    "for anchor in soup.find_all('a'):\n",
    "    print(anchor.get('href', '/'))"
   ]
  },
  {
   "cell_type": "code",
   "execution_count": 10,
   "metadata": {},
   "outputs": [
    {
     "name": "stdout",
     "output_type": "stream",
     "text": [
      "Help on method find_all in module bs4.element:\n",
      "\n",
      "find_all(self, name=None, attrs={}, recursive=True, text=None, limit=None, **kwargs) method of bs4.element.Tag instance\n",
      "    Extracts a list of Tag objects that match the given\n",
      "    criteria.  You can specify the name of the Tag and any\n",
      "    attributes you want the Tag to have.\n",
      "    \n",
      "    The value of a key-value pair in the 'attrs' map can be a\n",
      "    string, a list of strings, a regular expression object, or a\n",
      "    callable that takes a string and returns whether or not the\n",
      "    string matches for some custom definition of 'matches'. The\n",
      "    same is true of the tag name.\n",
      "\n"
     ]
    }
   ],
   "source": [
    "help(anchor.find_all)"
   ]
  },
  {
   "cell_type": "markdown",
   "metadata": {},
   "source": [
    "http://adequateman.deadspin.com/whats-the-best-store-to-daydream-about-robbing-1796232076\n",
    "http://deadspin.com/tag/funbag\n",
    "\n",
    "IDEA 1: maybe have the scrapyspider collect the urls, and then run through beautiful soup like below and write each one to its own text file. Perhaps this is formally two processes, web crawling with spider, and then html parsing and cleanup for each page\n",
    "\n",
    "there's also some type of querying language with an x in it to use...\n",
    "\n",
    "https://www.crummy.com/software/BeautifulSoup/bs4/doc/\n",
    "\n",
    "IDEA 2: For the projects... one version reproduces whole column. another version you enter a question and it generates an answer for you... would be interesting to do for an \"agony aunt\" column... should be a lot of data to scrape there...\n",
    "\n",
    "TO DO: \n",
    "- Fix up formatting so apostrophes don't get messed up in html (.prettify(formatter=\"html\")) !!!!!\n",
    "- Figure out how to not repeat the contents of blockquote\n",
    "- Crawl the site to make a file of all the urls. Print that to text file, so it can be loaded in and looped into bs4 stuff below"
   ]
  },
  {
   "cell_type": "code",
   "execution_count": 43,
   "metadata": {},
   "outputs": [],
   "source": [
    "import os\n",
    "from bs4 import BeautifulSoup\n",
    "import urllib2\n",
    "\n",
    "my_url = 'http://adequateman.deadspin.com/whats-the-best-store-to-daydream-about-robbing-1796232076'\n",
    "my_outfile = 'first.html'\n",
    "\n",
    "def oneFullPageParse(url, outfile):\n",
    "    fo = open(outfile, 'w')\n",
    "    funbag = urllib2.urlopen(url)\n",
    "    soup = BeautifulSoup(funbag,'html5lib') #html.parser')\n",
    "    for anchor in soup.find_all(['p', 'blockquote'], class_ = ''): \n",
    "        if anchor.parent.name == 'blockquote':\n",
    "            continue\n",
    "        fo.write(anchor.prettify(formatter=\"html\")) #anchor.prettify() #anchor.contents\n",
    "    fo.close()\n",
    "    \n",
    "oneFullPageParse(my_url, my_outfile)\n"
   ]
  },
  {
   "cell_type": "code",
   "execution_count": 37,
   "metadata": {
    "collapsed": true
   },
   "outputs": [],
   "source": [
    "    \n",
    "    #'p', class_ = '' #removes the p tags that have a class attribute!!! just need blockquotes\n",
    "    #['p', 'blockquote'] # almost right, but repeats the contents of the blockquote, maybe can do something with parent/child\n",
    "    #'p' and 'blockquote' #gets the two used together... could just generate questions with this for a start\n",
    "    #'p' or 'blockquote' #doesn't print out the blockquote tag but has the data...\n",
    "    #print anchor.parent #do something with this, it works! find parent though?!\n",
    "    \n",
    "    #print anchor.previousSibling\n",
    "    ###print soup.find_parent('anchor')\n",
    "    \n",
    "    #maybe have something like if parent of p is block quote, do nothing <<<<<<<<<<<<\n",
    "    \n",
    "#looks like we want to strip out certain classes for p, like the ad label. maybe do with text processing outside bs4\n",
    "#do that, and throw in the blockquotes, and bob's your uncle?"
   ]
  },
  {
   "cell_type": "code",
   "execution_count": 24,
   "metadata": {
    "collapsed": true
   },
   "outputs": [],
   "source": [
    "#print(soup.prettify())"
   ]
  },
  {
   "cell_type": "code",
   "execution_count": 34,
   "metadata": {},
   "outputs": [
    {
     "name": "stdout",
     "output_type": "stream",
     "text": [
      "<html><body><a><blockquote><p>Text</p></blockquote></a></body></html>\n",
      "<blockquote><p>Text</p></blockquote>\n",
      "<blockquote><p>Text</p></blockquote>\n",
      "<p>Text</p>\n",
      "True\n",
      "None\n"
     ]
    },
    {
     "ename": "NameError",
     "evalue": "name 'tag' is not defined",
     "output_type": "error",
     "traceback": [
      "\u001b[0;31m---------------------------------------------------------------------------\u001b[0m",
      "\u001b[0;31mNameError\u001b[0m                                 Traceback (most recent call last)",
      "\u001b[0;32m<ipython-input-34-087534115690>\u001b[0m in \u001b[0;36m<module>\u001b[0;34m()\u001b[0m\n\u001b[1;32m     10\u001b[0m \u001b[0;32mprint\u001b[0m \u001b[0mmyp\u001b[0m\u001b[0;34m[\u001b[0m\u001b[0;36m0\u001b[0m\u001b[0;34m]\u001b[0m\u001b[0;34m.\u001b[0m\u001b[0mparent\u001b[0m\u001b[0;34m.\u001b[0m\u001b[0mfind\u001b[0m\u001b[0;34m(\u001b[0m\u001b[0;34m'blockquote'\u001b[0m\u001b[0;34m)\u001b[0m\u001b[0;34m\u001b[0m\u001b[0m\n\u001b[1;32m     11\u001b[0m \u001b[0;34m\u001b[0m\u001b[0m\n\u001b[0;32m---> 12\u001b[0;31m \u001b[0;32mprint\u001b[0m \u001b[0mtag\u001b[0m\u001b[0;34m.\u001b[0m\u001b[0mfind\u001b[0m\u001b[0;34m\u001b[0m\u001b[0m\n\u001b[0m\u001b[1;32m     13\u001b[0m \u001b[0;34m\u001b[0m\u001b[0m\n\u001b[1;32m     14\u001b[0m \u001b[0;31m#print myp[0].find_parent()\u001b[0m\u001b[0;34m\u001b[0m\u001b[0;34m\u001b[0m\u001b[0m\n",
      "\u001b[0;31mNameError\u001b[0m: name 'tag' is not defined"
     ]
    }
   ],
   "source": [
    "mytest = BeautifulSoup('<a><blockquote><p>Text</p></blockquote></a>')\n",
    "\n",
    "print mytest\n",
    "print mytest.blockquote\n",
    "print mytest.find('blockquote')\n",
    "myp = mytest.find_all('p') #works for find withou subscripting, need [0] for find_all\n",
    "print myp[0]\n",
    "\n",
    "print myp[0].parent.name == 'blockquote'\n",
    "print myp[0].parent.find('blockquote')\n",
    "\n",
    "print tag.find\n",
    "\n",
    "#print myp[0].find_parent()\n",
    "\n",
    "#almost = myp[0].find_parent()\n",
    "#print almost\n",
    "\n",
    "#print almost.find_all('blockquote')\n",
    "\n",
    "##if (myp[0].find_parent()).find('blockquote'):\n",
    "##    print 'got it!!!'\n",
    "\n",
    "#mytag = soup.p\n",
    "#print mytag\n",
    "#print soup.find_parent('p')\n"
   ]
  },
  {
   "cell_type": "code",
   "execution_count": 18,
   "metadata": {},
   "outputs": [
    {
     "name": "stdout",
     "output_type": "stream",
     "text": [
      "None\n"
     ]
    }
   ],
   "source": [
    "print mytag.string"
   ]
  },
  {
   "cell_type": "code",
   "execution_count": 38,
   "metadata": {},
   "outputs": [
    {
     "name": "stdout",
     "output_type": "stream",
     "text": [
      "['body']\n",
      "['body']\n"
     ]
    }
   ],
   "source": [
    "css_soup = BeautifulSoup('<p class=\"body\"></p>')\n",
    "print css_soup.p['class']\n",
    "print css_soup.p.get_attribute_list('class')"
   ]
  },
  {
   "cell_type": "code",
   "execution_count": 49,
   "metadata": {},
   "outputs": [
    {
     "name": "stdout",
     "output_type": "stream",
     "text": [
      "[<p>If you could rob one store overnight with a zero percent chance of being caught, which store would you pick? Best Buy immediately jumps to mind (give me all them big ass TVs) but something like Macy\\u2019s or a Costco would probably make more sense for life-living purposes, right?</p>]\n"
     ]
    }
   ],
   "source": [
    "print soup.blockquote.contents"
   ]
  },
  {
   "cell_type": "code",
   "execution_count": 42,
   "metadata": {},
   "outputs": [
    {
     "data": {
      "text/plain": [
       "'/Users/MF/Desktop/data-science-side-projects/data_scraping_project/stuff'"
      ]
     },
     "execution_count": 42,
     "metadata": {},
     "output_type": "execute_result"
    }
   ],
   "source": [
    "import os\n",
    "os.getcwd()+'/stuff'"
   ]
  },
  {
   "cell_type": "code",
   "execution_count": null,
   "metadata": {
    "collapsed": true
   },
   "outputs": [],
   "source": []
  }
 ],
 "metadata": {
  "kernelspec": {
   "display_name": "Python 2",
   "language": "python",
   "name": "python2"
  },
  "language_info": {
   "codemirror_mode": {
    "name": "ipython",
    "version": 2
   },
   "file_extension": ".py",
   "mimetype": "text/x-python",
   "name": "python",
   "nbconvert_exporter": "python",
   "pygments_lexer": "ipython2",
   "version": "2.7.13"
  }
 },
 "nbformat": 4,
 "nbformat_minor": 2
}
