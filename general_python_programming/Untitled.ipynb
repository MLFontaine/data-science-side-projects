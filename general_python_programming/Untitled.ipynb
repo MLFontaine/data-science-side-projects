{
 "cells": [
  {
   "cell_type": "markdown",
   "metadata": {},
   "source": [
    "# General Python Coding Questions"
   ]
  },
  {
   "cell_type": "markdown",
   "metadata": {},
   "source": [
    "## Cracking the coding interview"
   ]
  },
  {
   "cell_type": "markdown",
   "metadata": {},
   "source": [
    "LEFT ROTATION of list given a=list, n=length of list, k=spots to shift left, known to be <n"
   ]
  },
  {
   "cell_type": "code",
   "execution_count": 40,
   "metadata": {},
   "outputs": [
    {
     "name": "stdout",
     "output_type": "stream",
     "text": [
      "[4, 5, 1, 2, 3]\n"
     ]
    }
   ],
   "source": [
    "n=5 \n",
    "d=3\n",
    "k=d\n",
    "a=[1, 2, 3, 4, 5]\n",
    "\n",
    "if d>=n:\n",
    "    d=d%n\n",
    "print a[d:n] + a[0:d]\n",
    " \n",
    "### Hackerrank code answer\n",
    "#def array_left_rotation(a, n, k):\n",
    "#    if k>=n:\n",
    "#        k=k%n\n",
    "#    return a[k:n] + a[0:k]\n",
    "#\n",
    "#n, k = map(int, raw_input().strip().split(' '))\n",
    "#a = map(int, raw_input().strip().split(' '))\n",
    "#answer = array_left_rotation(a, n, k);\n",
    "#print ' '.join(map(str,answer))"
   ]
  },
  {
   "cell_type": "markdown",
   "metadata": {},
   "source": [
    "MAKING ANAGRAMS given two lowercase strings of letters, find total number of letters to delete from both strings to make them anagrams"
   ]
  },
  {
   "cell_type": "code",
   "execution_count": 75,
   "metadata": {},
   "outputs": [
    {
     "name": "stdout",
     "output_type": "stream",
     "text": [
      "4\n"
     ]
    }
   ],
   "source": [
    "a = 'cde' \n",
    "b = 'abc'\n",
    "\n",
    "for pos in a:\n",
    "    if pos in b:\n",
    "        a = a.replace(pos, '' ,1)\n",
    "        b = b.replace(pos, '' ,1)\n",
    "\n",
    "print len(a)+len(b)\n",
    "\n",
    "### Hackerrank code answer\n",
    "#def number_needed(a, b):\n",
    "#    for pos in a:\n",
    "#        if pos in b:\n",
    "#            a = a.replace(pos, '' ,1)\n",
    "#            b = b.replace(pos, '' ,1)\n",
    "#    return len(a)+len(b)\n",
    "#\n",
    "#a = raw_input().strip()\n",
    "#b = raw_input().strip()\n",
    "#\n",
    "#print number_needed(a, b)"
   ]
  },
  {
   "cell_type": "markdown",
   "metadata": {},
   "source": [
    "TEST BINARY SEARCH TREE"
   ]
  },
  {
   "cell_type": "code",
   "execution_count": 88,
   "metadata": {
    "collapsed": true
   },
   "outputs": [],
   "source": [
    "### Hackerrank code answer\n",
    "\n"
   ]
  },
  {
   "cell_type": "code",
   "execution_count": 90,
   "metadata": {},
   "outputs": [
    {
     "name": "stdout",
     "output_type": "stream",
     "text": [
      "True\n"
     ]
    }
   ],
   "source": [
    "a = None\n",
    "\n",
    "print a is None"
   ]
  },
  {
   "cell_type": "code",
   "execution_count": 92,
   "metadata": {},
   "outputs": [
    {
     "data": {
      "text/plain": [
       "True"
      ]
     },
     "execution_count": 92,
     "metadata": {},
     "output_type": "execute_result"
    }
   ],
   "source": [
    "[] == []"
   ]
  },
  {
   "cell_type": "code",
   "execution_count": 101,
   "metadata": {},
   "outputs": [
    {
     "name": "stdout",
     "output_type": "stream",
     "text": [
      "['a', 4, 9]\n",
      "['a', 4, 9, 'junk']\n"
     ]
    }
   ],
   "source": [
    "a = ['a', 4, 9]\n",
    "range(len(a))\n",
    "print a\n",
    "a.append('junk')\n",
    "print a"
   ]
  },
  {
   "cell_type": "code",
   "execution_count": 103,
   "metadata": {},
   "outputs": [
    {
     "name": "stdout",
     "output_type": "stream",
     "text": [
      "0\n"
     ]
    }
   ],
   "source": [
    "b=[]\n",
    "print len(b)"
   ]
  },
  {
   "cell_type": "code",
   "execution_count": null,
   "metadata": {
    "collapsed": true
   },
   "outputs": [],
   "source": []
  }
 ],
 "metadata": {
  "kernelspec": {
   "display_name": "Python 2",
   "language": "python",
   "name": "python2"
  },
  "language_info": {
   "codemirror_mode": {
    "name": "ipython",
    "version": 2
   },
   "file_extension": ".py",
   "mimetype": "text/x-python",
   "name": "python",
   "nbconvert_exporter": "python",
   "pygments_lexer": "ipython2",
   "version": "2.7.13"
  }
 },
 "nbformat": 4,
 "nbformat_minor": 2
}
